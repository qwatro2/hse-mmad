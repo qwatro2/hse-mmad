{
  "cells": [
    {
      "cell_type": "markdown",
      "metadata": {
        "id": "tBrDXMdDy-Qn"
      },
      "source": [
        "# HSE 2024: Mathematical Methods for Data Analysis\n",
        "\n",
        "## Homework 2"
      ]
    },
    {
      "cell_type": "markdown",
      "metadata": {
        "id": "RXXi5K1mf41d"
      },
      "source": [
        "# Attention!\n",
        "\n",
        "* For tasks where <ins>text answer</ins> is required **Russian language** is **allowed**.\n",
        "* If a task asks you to describe something (make coclusions) then **text answer** is **mandatory** and **is** part of the task\n",
        "* **Do not** upload the dataset (titanic.csv) to the grading system (we already have it)\n",
        "* We **only** accept **ipynb** notebooks. If you use Google Colab then you'll have to download the notebook before passing the homework\n",
        "* **Do not** use python loops instead of NumPy vector operations over NumPy vectors - it significantly decreases performance (see why https://blog.paperspace.com/numpy-optimization-vectorization-and-broadcasting/), will be punished with -0.25 for **every** task.\n",
        "Loops are only allowed in part 1 (Tasks 1 - 4).\n",
        "* Some tasks contain tests. They only test you solution on a simple example, thus, passing the test does **not** guarantee you the full grade for the task.\n",
        "\n",
        "If the task asks for an explanation of something, it means that a written answer is required, which is part of the task and is assessed\n",
        "\n",
        "We only accept ipynb notebooks. If you use Google Colab, you need to download the notebook before submitting your homework"
      ]
    },
    {
      "cell_type": "code",
      "execution_count": 1,
      "metadata": {
        "ExecuteTime": {
          "end_time": "2020-09-26T16:48:20.566549Z",
          "start_time": "2020-09-26T16:48:19.893995Z"
        },
        "id": "mSR-a9vVy-Qp"
      },
      "outputs": [],
      "source": [
        "import pandas as pd\n",
        "import numpy as np\n",
        "import matplotlib.pyplot as plt\n",
        "import seaborn as sns\n",
        "import sklearn\n",
        "from sklearn import datasets\n",
        "from sklearn.model_selection import GridSearchCV\n",
        "from sklearn.model_selection import train_test_split\n",
        "from sklearn.model_selection import cross_val_score\n",
        "from sklearn.linear_model import Ridge\n",
        "from sklearn.preprocessing import StandardScaler, LabelEncoder, TargetEncoder\n",
        "from sklearn.linear_model import LinearRegression, Ridge, Lasso, ElasticNet\n",
        "from sklearn.metrics import mean_squared_error, r2_score\n",
        "import statsmodels.api as sm\n",
        "from statsmodels.regression.linear_model import OLSResults\n",
        "from math import sqrt\n",
        "import random\n",
        "import sys\n",
        "\n",
        "import warnings\n",
        "warnings.filterwarnings(\"ignore\")\n",
        "\n",
        "%matplotlib inline\n",
        "\n",
        "sns.set(style=\"darkgrid\")"
      ]
    },
    {
      "cell_type": "markdown",
      "metadata": {},
      "source": [
        "В модели `OLS` самой весомой категорией оказалась `popularity`, в `Linear Regression` и `Ridge` - `loudness`. Также в этих моделях нет нулевых коэффициентов. В целом, данные результаты не противоречат нашему житейскому опыту: трек может быть популярным, потому что энергичный, и энергичным за счет своей громкости. \\\\\n",
        "В модели `Lasso` только `loudness` и `acousticness` имеют ненулевые коэффициенты."
      ]
    },
    {
      "cell_type": "markdown",
      "metadata": {
        "id": "HUjuv9Qty-Qq"
      },
      "source": [
        "### Data\n",
        "\n",
        "For this homework we will use a dataset of tracks from the streaming service Spotify"
      ]
    },
    {
      "cell_type": "markdown",
      "metadata": {
        "id": "pHSjHiIDOgHP"
      },
      "source": [
        "**Описание данных**\n",
        "\n",
        "- **track_id:** The Spotify ID for the track\n",
        "- **artists:** The artists' names who performed the track. If there is more than one artist, they are separated by a ;\n",
        "- **album_name:** The album name in which the track appears\n",
        "- **track_name:** Name of the track\n",
        "- **popularity:** The popularity of a track is a value between 0 and 100, with 100 being the most popular. The popularity is calculated by algorithm and is based, in the most part, on the total number of plays the track has had and how recent those plays are. Generally speaking, songs that are being played a lot now will have a higher popularity than songs that were played a lot in the past. Duplicate tracks (e.g. the same track from a single and an album) are rated independently. Artist and album popularity is derived mathematically from track popularity.\n",
        "- **duration_ms:** The track length in milliseconds\n",
        "- **explicit:** Whether or not the track has explicit lyrics (true = yes it does; false = no it does not OR unknown)\n",
        "- **danceability:** Danceability describes how suitable a track is for dancing based on a combination of musical elements including tempo, rhythm stability, beat strength, and overall regularity. A value of 0.0 is least danceable and 1.0 is most danceable\n",
        "- **key:** The key the track is in. Integers map to pitches using standard Pitch Class notation. E.g. 0 = C, 1 = C♯/D♭, 2 = D, and so on. If no key was detected, the value is -1\n",
        "- **loudness:** The overall loudness of a track in decibels (dB)\n",
        "- **mode:** Mode indicates the modality (major or minor) of a track, the type of scale from which its melodic content is derived. Major is represented by 1 and minor is 0\n",
        "- **speechiness:** Speechiness detects the presence of spoken words in a track. The more exclusively speech-like the recording (e.g. talk show, audio book, poetry), the closer to 1.0 the attribute value. Values above 0.66 describe tracks that are probably made entirely of spoken words. Values between 0.33 and 0.66 describe tracks that may contain both music and speech, either in sections or layered, including such cases as rap music. Values below 0.33 most likely represent music and other non-speech-like tracks\n",
        "- **acousticness:** A confidence measure from 0.0 to 1.0 of whether the track is acoustic. 1.0 represents high confidence the track is acoustic\n",
        "- **instrumentalness:** Predicts whether a track contains no vocals. \"Ooh\" and \"aah\" sounds are treated as instrumental in this context. Rap or spoken word tracks are clearly \"vocal\". The closer the instrumentalness value is to 1.0, the greater likelihood the track contains no vocal content\n",
        "- **liveness:** Detects the presence of an audience in the recording. Higher liveness values represent an increased probability that the track was performed live. A value above 0.8 provides strong likelihood that the track is live\n",
        "- **valence:** A measure from 0.0 to 1.0 describing the musical positiveness conveyed by a track. Tracks with high valence sound more positive (e.g. happy, cheerful, euphoric), while tracks with low valence sound more negative (e.g. sad, depressed, angry)\n",
        "- **tempo:** The overall estimated tempo of a track in beats per minute (BPM). In musical terminology, tempo is the speed or pace of a given piece and derives directly from the average beat duration\n",
        "- **time_signature:** An estimated time signature. The time signature (meter) is a notational convention to specify how many beats are in each bar (or measure). The time signature ranges from 3 to 7 indicating time signatures of 3/4, to 7/4.\n",
        "- **track_genre:** The genre in which the track belongs\n",
        "\n",
        "**Target variable**\n",
        "- **energy:** Energy is a measure from 0.0 to 1.0 and represents a perceptual measure of intensity and activity. Typically, energetic tracks feel fast, loud, and noisy. For example, death metal has high energy, while a Bach prelude scores low on the scale"
      ]
    },
    {
      "cell_type": "code",
      "execution_count": 2,
      "metadata": {
        "id": "tHWSWTXDy-Qq"
      },
      "outputs": [],
      "source": [
        "data = pd.read_csv('dataset.csv')\n",
        "\n",
        "y = data['energy']\n",
        "X = data.drop(['energy'], axis=1)\n",
        "columns = X.columns"
      ]
    },
    {
      "cell_type": "markdown",
      "metadata": {
        "id": "K81w8s35y-Qq"
      },
      "source": [
        "## Linear Regression"
      ]
    },
    {
      "cell_type": "markdown",
      "metadata": {
        "id": "cYgEN-FMy-Qr"
      },
      "source": [
        "#### 0. [0.25 points] Code the categorical features. Explain the method you have chosen."
      ]
    },
    {
      "cell_type": "code",
      "execution_count": 3,
      "metadata": {
        "id": "-IrSlQaWy-Qr"
      },
      "outputs": [],
      "source": [
        "categorical_columns = X.select_dtypes(include = 'object').columns"
      ]
    },
    {
      "cell_type": "code",
      "execution_count": 4,
      "metadata": {},
      "outputs": [],
      "source": [
        "X[categorical_columns] = TargetEncoder().fit_transform(X[categorical_columns], y)"
      ]
    },
    {
      "cell_type": "markdown",
      "metadata": {},
      "source": [
        "Используем TargetEncoder, чтобы не раздувать данные лишними столбцами, например, как это делает OneHotEncoder"
      ]
    },
    {
      "cell_type": "markdown",
      "metadata": {
        "id": "7dVwP45Gy-Qr"
      },
      "source": [
        "#### 1. [0.25 points] Split the data into train and test with a ratio of 80:20 and random_state=42."
      ]
    },
    {
      "cell_type": "code",
      "execution_count": 5,
      "metadata": {
        "id": "U7z8TIh5y-Qs"
      },
      "outputs": [],
      "source": [
        "X_train, X_test, y_train, y_test = train_test_split(X, y, test_size=0.2, random_state=42)"
      ]
    },
    {
      "cell_type": "markdown",
      "metadata": {
        "id": "7daIQRfKy-Qs",
        "tags": []
      },
      "source": [
        "#### 2. [0.75 points] Train models on train, excluding categorical features, using the StatsModels library and apply it to test; use $RMSE$ and $R^2$ as quality metrics. Try also applying linear regression implementations from sklearn:\n",
        "\n",
        "* [`LinearRegression`](http://scikit-learn.org/stable/modules/generated/sklearn.linear_model.LinearRegression.html);\n",
        "* [`Ridge`](http://scikit-learn.org/stable/modules/generated/sklearn.linear_model.Ridge.html) with $\\alpha = 0.03$;\n",
        "* [`Lasso`](http://scikit-learn.org/stable/modules/generated/sklearn.linear_model.Lasso.html) with $\\alpha = 0.05$\n",
        "\n",
        "Don't forget to scale your data using StandardScaler before training your models!"
      ]
    },
    {
      "cell_type": "code",
      "execution_count": 6,
      "metadata": {
        "id": "Bkbr5iFCy-Qs"
      },
      "outputs": [],
      "source": [
        "scaler = StandardScaler()\n",
        "\n",
        "X_train[X_train.drop(categorical_columns, axis=1).columns] = scaler.fit_transform(X_train[X_train.drop(categorical_columns, axis=1).columns])\n",
        "X_test[X_test.drop(categorical_columns, axis=1).columns] = scaler.transform(X_test[X_test.drop(categorical_columns, axis=1).columns])\n",
        "\n",
        "X_train_temp = X_train.drop(categorical_columns, axis=1)\n",
        "X_test_temp = X_test.drop(categorical_columns, axis=1)\n",
        "\n",
        "X_train_sm = sm.add_constant(X_train_temp)\n",
        "X_test_sm = sm.add_constant(X_test_temp)"
      ]
    },
    {
      "cell_type": "code",
      "execution_count": 7,
      "metadata": {},
      "outputs": [],
      "source": [
        "def train_and_process_model(label, model_producer, X_train, y_train, X_test, y_test):\n",
        "    model = model_producer(X_train, y_train)\n",
        "    y_pred = model.predict(X_test)\n",
        "    rmse = np.sqrt(mean_squared_error(y_test, y_pred))\n",
        "    r2 = r2_score(y_test, y_pred)\n",
        "    print(label)\n",
        "    print(\"RMSE =\", rmse)\n",
        "    print(\"R2 =\", r2)\n",
        "    return model"
      ]
    },
    {
      "cell_type": "code",
      "execution_count": 8,
      "metadata": {},
      "outputs": [
        {
          "name": "stdout",
          "output_type": "stream",
          "text": [
            "StatsModels\n",
            "RMSE = 0.12171081319566679\n",
            "R2 = 0.7646278583033055\n"
          ]
        }
      ],
      "source": [
        "statsmodel_numeric = train_and_process_model(\"StatsModels\", lambda X_train, y_train: sm.OLS(y_train, X_train).fit(), X_train_sm, y_train, X_test_sm, y_test)"
      ]
    },
    {
      "cell_type": "code",
      "execution_count": 9,
      "metadata": {},
      "outputs": [
        {
          "name": "stdout",
          "output_type": "stream",
          "text": [
            "LinearRegression\n",
            "RMSE = 0.1217108131956668\n",
            "R2 = 0.7646278583033055\n"
          ]
        }
      ],
      "source": [
        "linreg_numeric = train_and_process_model(\"LinearRegression\", lambda X_train, y_train: LinearRegression().fit(X_train, y_train), X_train_temp, y_train, X_test_temp, y_test)"
      ]
    },
    {
      "cell_type": "code",
      "execution_count": 10,
      "metadata": {},
      "outputs": [
        {
          "name": "stdout",
          "output_type": "stream",
          "text": [
            "Ridge\n",
            "RMSE = 0.12171081422867525\n",
            "R2 = 0.76462785430791\n"
          ]
        }
      ],
      "source": [
        "ridge_numeric = train_and_process_model(\"Ridge\", lambda X_train, y_train: Ridge(alpha=0.03).fit(X_train, y_train), X_train_temp, y_train, X_test_temp, y_test)"
      ]
    },
    {
      "cell_type": "code",
      "execution_count": 11,
      "metadata": {},
      "outputs": [
        {
          "name": "stdout",
          "output_type": "stream",
          "text": [
            "Lasso\n",
            "RMSE = 0.14798373613042706\n",
            "R2 = 0.6520436982694859\n"
          ]
        }
      ],
      "source": [
        "lasso_numeric = train_and_process_model(\"Lasso\", lambda X_train, y_train: Lasso(alpha=0.05).fit(X_train, y_train), X_train_temp, y_train, X_test_temp, y_test)"
      ]
    },
    {
      "cell_type": "markdown",
      "metadata": {
        "id": "RWWvUdxROgHP"
      },
      "source": [
        "#### 3. [0.25 points] Repeat the steps from the previous point, adding categorical features. Comment on the changes in the quality metrics values"
      ]
    },
    {
      "cell_type": "code",
      "execution_count": 12,
      "metadata": {
        "id": "-Opop8b6OgHQ"
      },
      "outputs": [],
      "source": [
        "X_train_sm = sm.add_constant(X_train.dropna())\n",
        "X_test_sm = sm.add_constant(X_test.dropna())"
      ]
    },
    {
      "cell_type": "code",
      "execution_count": 13,
      "metadata": {},
      "outputs": [
        {
          "name": "stdout",
          "output_type": "stream",
          "text": [
            "StatsModels\n",
            "RMSE = 0.10678647390076168\n",
            "R2 = 0.8188120866545903\n"
          ]
        }
      ],
      "source": [
        "statsmodel_all = train_and_process_model(\"StatsModels\", lambda X_train, y_train: sm.OLS(y_train, X_train).fit(), X_train_sm, y_train, X_test_sm, y_test)"
      ]
    },
    {
      "cell_type": "code",
      "execution_count": 14,
      "metadata": {},
      "outputs": [
        {
          "name": "stdout",
          "output_type": "stream",
          "text": [
            "LinearRegression\n",
            "RMSE = 0.1217108131956668\n",
            "R2 = 0.7646278583033055\n"
          ]
        }
      ],
      "source": [
        "linreg_all = train_and_process_model(\"LinearRegression\", lambda X_train, y_train: LinearRegression().fit(X_train, y_train), X_train_temp, y_train, X_test_temp, y_test)"
      ]
    },
    {
      "cell_type": "code",
      "execution_count": 15,
      "metadata": {},
      "outputs": [
        {
          "name": "stdout",
          "output_type": "stream",
          "text": [
            "Ridge\n",
            "RMSE = 0.12171081422867525\n",
            "R2 = 0.76462785430791\n"
          ]
        }
      ],
      "source": [
        "ridge_all = train_and_process_model(\"Ridge\", lambda X_train, y_train: Ridge(alpha=0.03).fit(X_train, y_train), X_train_temp, y_train, X_test_temp, y_test)"
      ]
    },
    {
      "cell_type": "code",
      "execution_count": 16,
      "metadata": {},
      "outputs": [
        {
          "name": "stdout",
          "output_type": "stream",
          "text": [
            "Lasso\n",
            "RMSE = 0.14798373613042706\n",
            "R2 = 0.6520436982694859\n"
          ]
        }
      ],
      "source": [
        "lasso_all = train_and_process_model(\"Lasso\", lambda X_train, y_train: Lasso(alpha=0.05).fit(X_train, y_train), X_train_temp, y_train, X_test_temp, y_test)"
      ]
    },
    {
      "cell_type": "markdown",
      "metadata": {
        "id": "69JOftKRy-Qt"
      },
      "source": [
        "#### 4. [1 point] Examine the parameter values ​​of the models obtained from StatsModels and check which weights and in which models turned out to be zero. Comment on the significance of the coefficients, the overall significance of the models and other factors from the resulting tables"
      ]
    },
    {
      "cell_type": "code",
      "execution_count": 17,
      "metadata": {},
      "outputs": [],
      "source": [
        "def analyze_weights(label, features, model):\n",
        "    print(label)\n",
        "    df = pd.DataFrame(zip(features, model.coef_), columns=(\"Feature\", \"Weight\"))\n",
        "    print(df)"
      ]
    },
    {
      "cell_type": "code",
      "execution_count": 18,
      "metadata": {},
      "outputs": [],
      "source": [
        "columns_without_categorical = X_train.drop(categorical_columns, axis=1).columns\n",
        "X_train_without_categorical = X_train[columns_without_categorical]"
      ]
    },
    {
      "cell_type": "code",
      "execution_count": 19,
      "metadata": {
        "id": "Np1biYQ7y-Qt"
      },
      "outputs": [],
      "source": [
        "statsmodel_numeric.coef_ = statsmodel_numeric.params.values\n",
        "statsmodel_all.coef_ = statsmodel_all.params.values"
      ]
    },
    {
      "cell_type": "code",
      "execution_count": 20,
      "metadata": {},
      "outputs": [
        {
          "name": "stdout",
          "output_type": "stream",
          "text": [
            "StatsModels Numeric\n",
            "             Feature    Weight\n",
            "0         popularity  0.640909\n",
            "1        duration_ms -0.002161\n",
            "2           explicit  0.004678\n",
            "3       danceability -0.001897\n",
            "4                key -0.032195\n",
            "5           loudness  0.001525\n",
            "6               mode  0.135098\n",
            "7        speechiness -0.003966\n",
            "8       acousticness  0.028073\n",
            "9   instrumentalness -0.105580\n",
            "10          liveness  0.035085\n",
            "11           valence  0.026209\n",
            "12             tempo  0.040514\n",
            "13    time_signature  0.007555\n"
          ]
        }
      ],
      "source": [
        "analyze_weights(\"StatsModels Numeric\", X_train_without_categorical.columns, statsmodel_numeric)"
      ]
    },
    {
      "cell_type": "markdown",
      "metadata": {},
      "source": [
        "В модели без категориальных признаков самой весомой категорией оказалась `popularity`, нулевых коэффициентов нет. В целом, данные результаты не противоречат нашему житейскому опыту: трек может быть популярным, потому что энергичный."
      ]
    },
    {
      "cell_type": "code",
      "execution_count": 21,
      "metadata": {},
      "outputs": [
        {
          "name": "stdout",
          "output_type": "stream",
          "text": [
            "StatsModels\n",
            "             Feature    Weight\n",
            "0            artists  0.248730\n",
            "1         album_name  0.230473\n",
            "2         track_name  0.088034\n",
            "3         popularity  0.167970\n",
            "4        duration_ms -0.002546\n",
            "5           explicit  0.002052\n",
            "6       danceability -0.002700\n",
            "7                key -0.023655\n",
            "8           loudness  0.000860\n",
            "9               mode  0.099133\n",
            "10       speechiness -0.002037\n",
            "11      acousticness  0.019101\n",
            "12  instrumentalness -0.063455\n",
            "13          liveness  0.029624\n",
            "14           valence  0.019421\n",
            "15             tempo  0.033391\n",
            "16    time_signature  0.005485\n",
            "17       track_genre  0.005349\n"
          ]
        }
      ],
      "source": [
        "analyze_weights(\"StatsModels\", X_train.columns, statsmodel_all)"
      ]
    },
    {
      "cell_type": "markdown",
      "metadata": {},
      "source": [
        "В модели с категориальными признаками самой весомой категорией оказалась `artist` и `album_name`, нулевых коэффициентов нет"
      ]
    },
    {
      "cell_type": "markdown",
      "metadata": {
        "id": "yLcvGlUZy-Qt"
      },
      "source": [
        "#### 5. [1 point] Implement one of the feature selection algorithms (Elimination by P-value, Forward elimination, Backward elimination), draw conclusions."
      ]
    },
    {
      "cell_type": "code",
      "execution_count": 22,
      "metadata": {
        "id": "TnrbRbkwy-Qt"
      },
      "outputs": [],
      "source": [
        "def backward_elimination(X, y, alpha):\n",
        "    scaler = StandardScaler()\n",
        "    X_scaled = sm.add_constant(scaler.fit_transform(X))\n",
        "    n = len(X_scaled[0])\n",
        "    removed_features = []\n",
        "\n",
        "    for _ in range(n):\n",
        "        model = sm.OLS(y, X_scaled).fit()\n",
        "        max_feature = np.max(model.pvalues)\n",
        "        if max_feature > alpha:\n",
        "            max_feature_index = np.where(model.pvalues == max_feature)[0]\n",
        "            removed_features.extend(X.columns[max_feature_index - 1])\n",
        "            X = X.drop(columns=X.columns[max_feature_index - 1])\n",
        "            X_scaled = np.delete(X_scaled, max_feature_index, 1)\n",
        "        \n",
        "    return X, removed_features"
      ]
    },
    {
      "cell_type": "code",
      "execution_count": 23,
      "metadata": {},
      "outputs": [],
      "source": [
        "def backward_elimination_test(alpha):\n",
        "    X_selected, removed = backward_elimination(X_train, y_train, alpha)\n",
        "    \n",
        "    print(\"~~~~~~~~~~~~~~~~~\")\n",
        "    print(f'alpha =', alpha)\n",
        "    print(f'Before selection: {list(X_train.columns)}')\n",
        "    print(f'After selection: {list(X_selected.columns)}')\n",
        "    print(f\"Removed features: {removed}\")\n",
        "    print(\"~~~~~~~~~~~~~~~~~\")"
      ]
    },
    {
      "cell_type": "code",
      "execution_count": 24,
      "metadata": {},
      "outputs": [
        {
          "name": "stdout",
          "output_type": "stream",
          "text": [
            "~~~~~~~~~~~~~~~~~\n",
            "alpha = 0.001\n",
            "Before selection: ['artists', 'album_name', 'track_name', 'popularity', 'duration_ms', 'explicit', 'danceability', 'key', 'loudness', 'mode', 'speechiness', 'acousticness', 'instrumentalness', 'liveness', 'valence', 'tempo', 'time_signature', 'track_genre']\n",
            "After selection: ['artists', 'album_name', 'track_name', 'popularity', 'duration_ms', 'explicit', 'danceability', 'loudness', 'mode', 'speechiness', 'acousticness', 'instrumentalness', 'liveness', 'valence', 'tempo', 'time_signature', 'track_genre']\n",
            "Removed features: ['key']\n",
            "~~~~~~~~~~~~~~~~~\n",
            "~~~~~~~~~~~~~~~~~\n",
            "alpha = 1e-06\n",
            "Before selection: ['artists', 'album_name', 'track_name', 'popularity', 'duration_ms', 'explicit', 'danceability', 'key', 'loudness', 'mode', 'speechiness', 'acousticness', 'instrumentalness', 'liveness', 'valence', 'tempo', 'time_signature', 'track_genre']\n",
            "After selection: ['artists', 'album_name', 'track_name', 'popularity', 'duration_ms', 'explicit', 'danceability', 'loudness', 'mode', 'speechiness', 'acousticness', 'instrumentalness', 'liveness', 'valence', 'tempo', 'time_signature', 'track_genre']\n",
            "Removed features: ['key']\n",
            "~~~~~~~~~~~~~~~~~\n",
            "~~~~~~~~~~~~~~~~~\n",
            "alpha = 1e-09\n",
            "Before selection: ['artists', 'album_name', 'track_name', 'popularity', 'duration_ms', 'explicit', 'danceability', 'key', 'loudness', 'mode', 'speechiness', 'acousticness', 'instrumentalness', 'liveness', 'valence', 'tempo', 'time_signature', 'track_genre']\n",
            "After selection: ['artists', 'album_name', 'track_name', 'popularity', 'explicit', 'danceability', 'loudness', 'mode', 'speechiness', 'acousticness', 'instrumentalness', 'liveness', 'valence', 'tempo', 'time_signature', 'track_genre']\n",
            "Removed features: ['key', 'duration_ms']\n",
            "~~~~~~~~~~~~~~~~~\n",
            "~~~~~~~~~~~~~~~~~\n",
            "alpha = 1e-12\n",
            "Before selection: ['artists', 'album_name', 'track_name', 'popularity', 'duration_ms', 'explicit', 'danceability', 'key', 'loudness', 'mode', 'speechiness', 'acousticness', 'instrumentalness', 'liveness', 'valence', 'tempo', 'time_signature', 'track_genre']\n",
            "After selection: ['artists', 'album_name', 'track_name', 'explicit', 'danceability', 'loudness', 'speechiness', 'acousticness', 'instrumentalness', 'liveness', 'valence', 'tempo', 'time_signature', 'track_genre']\n",
            "Removed features: ['key', 'duration_ms', 'mode', 'popularity']\n",
            "~~~~~~~~~~~~~~~~~\n"
          ]
        }
      ],
      "source": [
        "backward_elimination_test(1e-3)\n",
        "backward_elimination_test(1e-6)\n",
        "backward_elimination_test(1e-9)\n",
        "backward_elimination_test(1e-12)"
      ]
    },
    {
      "cell_type": "markdown",
      "metadata": {},
      "source": [
        "Ради интереса найдем такой уровень отсечки, чтобы убрало прям много признаков"
      ]
    },
    {
      "cell_type": "code",
      "execution_count": 25,
      "metadata": {},
      "outputs": [
        {
          "name": "stdout",
          "output_type": "stream",
          "text": [
            "~~~~~~~~~~~~~~~~~\n",
            "alpha = 1e-100\n",
            "Before selection: ['artists', 'album_name', 'track_name', 'popularity', 'duration_ms', 'explicit', 'danceability', 'key', 'loudness', 'mode', 'speechiness', 'acousticness', 'instrumentalness', 'liveness', 'valence', 'tempo', 'time_signature', 'track_genre']\n",
            "After selection: ['artists', 'album_name', 'track_name', 'danceability', 'loudness', 'speechiness', 'acousticness', 'instrumentalness', 'liveness', 'valence', 'track_genre']\n",
            "Removed features: ['key', 'duration_ms', 'mode', 'popularity', 'explicit', 'time_signature', 'tempo']\n",
            "~~~~~~~~~~~~~~~~~\n"
          ]
        }
      ],
      "source": [
        "backward_elimination_test(1e-100)"
      ]
    },
    {
      "cell_type": "markdown",
      "metadata": {
        "id": "df0eQLdNy-Qt"
      },
      "source": [
        "#### 6. [1 point] Find the best (RMSE) $\\alpha$ for Lasso regression using 4-fold cross-validation. You should choose a value from the logarithmic range $[10^{-4}, 10^{3}]$."
      ]
    },
    {
      "cell_type": "code",
      "execution_count": 26,
      "metadata": {},
      "outputs": [],
      "source": [
        "def find_best_alpha(model_gen, X, y):\n",
        "    alphas = np.logspace(-4, 3, base=10)\n",
        "    search_result = np.vectorize(lambda alpha: cross_val_score(model_gen(alpha), X, y, cv=4, scoring='neg_root_mean_squared_error').mean())(alphas).argmax()\n",
        "    return alphas[search_result]"
      ]
    },
    {
      "cell_type": "code",
      "execution_count": 28,
      "metadata": {
        "id": "JPoT3YHqy-Qt"
      },
      "outputs": [],
      "source": [
        "print(\"Best alpha:\", find_best_alpha(lambda alpha: Lasso(alpha=alpha), X_train, y_train))"
      ]
    },
    {
      "cell_type": "markdown",
      "metadata": {
        "id": "Q1PKinJUy-Qt"
      },
      "source": [
        "## Gradient Descent\n",
        "\n",
        "#### 7. [3.5 points] Implement Ridge regression for MSE loss trained using gradient descent.\n",
        "\n",
        "All computations must be vectorized, and Python loops can only be used for gradient descent iterations. The stopping criteria must be (simultaneously):\n",
        "\n",
        "* checking the absolute norm of the difference in weights on two adjacent iterations (e.g., less than some small number of the order of $10^{-6}$, specified by the `tolerance` parameter);\n",
        "\n",
        "* reaching the maximum number of iterations (e.g., 10000, specified by the `max_iter` parameter).\n",
        "\n",
        "You need to do:\n",
        "\n",
        "* Full gradient descent:\n",
        "\n",
        "$$\n",
        "w_{k + 1} = w_{k} - \\eta_{k} \\nabla_{w} Q(w_{k}).\n",
        "$$\n",
        "\n",
        "* Stochastic Gradient Descent:\n",
        "\n",
        "$$\n",
        "w_{k + 1} = w_{k} - \\eta_{k} \\nabla_{w} q_{i_{k}}(w_{k}).\n",
        "$$\n",
        "\n",
        "$\\nabla_{w} q_{i_{k}}(w_{k}) \\, $ is an estimate of the gradient over a set of objects chosen at random.\n",
        "\n",
        "* Moment of method:\n",
        "\n",
        "$$\n",
        "h_0 = 0, \\\\\n",
        "h_{k + 1} = \\alpha h_{k} + \\eta_k \\nabla_{w} Q(w_{k}), \\\\\n",
        "w_{k + 1} = w_{k} - h_{k + 1}.\n",
        "$$\n",
        "\n",
        "* Adagrad method:\n",
        "\n",
        "$$\n",
        "G_0 = 0, \\\\\n",
        "G_{k + 1} = G_{k} + (\\nabla_{w} Q(w_{k+1}))^2, \\\\\n",
        "w_{k + 1} = w_{k} - \\eta * \\frac{\\nabla_{w} Q(w_{k+1})}{\\sqrt{G_{k+1} + \\epsilon}}.\n",
        "$$\n",
        "\n",
        "To verify that the optimization process is actually running, we will use the `loss_history` class attribute. After calling the fit method, it should contain the loss function values ​​for all iterations starting from the first (up to the first step along the antigradient).\n",
        "\n",
        "You need to initialize the weights with a random vector from a normal distribution. Below is a template that should contain code implementing all the model variants."
      ]
    },
    {
      "cell_type": "code",
      "execution_count": 29,
      "metadata": {
        "id": "oI39UzCLy-Qu"
      },
      "outputs": [],
      "source": [
        "from sklearn.base import BaseEstimator\n",
        "\n",
        "class LinReg(BaseEstimator):\n",
        "    GRADIENT_DESCENT = \"GradientDescent\"\n",
        "    STOCHASTIC_DESCENT = \"StochasticDescent\"\n",
        "    MOMENTUM = \"Momentum\"\n",
        "    ADAGRAD = \"Adagrad\"\n",
        "\n",
        "    def __init__(self, delta=1.0, gd_type='Momentum',\n",
        "                 tolerance=1e-4, max_iter=1000, w0=None, eta=1e-2, alpha=1e-3,\n",
        "                 reg_coef=0.4, epsilon=1e-6):\n",
        "        \"\"\"\n",
        "        gd_type: str\n",
        "            'GradientDescent', 'StochasticDescent', 'Momentum', 'Adagrad'\n",
        "        delta: float\n",
        "            proportion of object in a batch (for stochastic GD)\n",
        "        tolerance: float\n",
        "            for stopping gradient descent\n",
        "        max_iter: int\n",
        "            maximum number of steps in gradient descent\n",
        "        w0: np.array of shape (d)\n",
        "            init weights\n",
        "        eta: float\n",
        "            learning rate\n",
        "        alpha: float\n",
        "            momentum coefficient\n",
        "        reg_cf: float\n",
        "            regularization coefficient\n",
        "        epsilon: float\n",
        "            numerical stability\n",
        "        \"\"\"\n",
        "\n",
        "        self.delta = delta\n",
        "        self.gd_type = gd_type\n",
        "        self.tolerance = tolerance\n",
        "        self.max_iter = max_iter\n",
        "        self.w0 = w0\n",
        "        self.alpha = alpha\n",
        "        self.w = None\n",
        "        self.eta = eta\n",
        "        self.loss_history = None # list of loss function values at each training iteration\n",
        "        self.reg_coef = reg_coef\n",
        "        self.epsilon = epsilon\n",
        "\n",
        "    def fit(self, X, y):\n",
        "        \"\"\"\n",
        "        X: np.array of shape (l, d)\n",
        "        y: np.array of shape (l)\n",
        "        ---\n",
        "        output: self\n",
        "        \"\"\"\n",
        "        if self.w0 is None:\n",
        "            self.w0 = np.random.normal(size=X.shape[1])\n",
        "        \n",
        "        self.w = self.w0.copy()\n",
        "        self.loss_history = []\n",
        "\n",
        "        last_w = self.w0.copy()\n",
        "        current_iter = 0\n",
        "\n",
        "        match self.gd_type:\n",
        "            case LinReg.GRADIENT_DESCENT: self._gradient_descent(X, y, current_iter, last_w)\n",
        "            case LinReg.STOCHASTIC_DESCENT: self._stochastic_descent(X, y, current_iter, last_w)\n",
        "            case LinReg.MOMENTUM: self._momentum(X, y, current_iter, last_w)\n",
        "            case LinReg.ADAGRAD: self._adagrad(X, y, current_iter, last_w)\n",
        "            case _: raise Exception(f'Wrong gd_type: {self.gd_type}')\n",
        "\n",
        "        return self\n",
        "\n",
        "    def predict(self, X):\n",
        "        if self.w is None:\n",
        "            raise Exception('Not trained yet')\n",
        "\n",
        "        return X.dot(self.w)\n",
        "\n",
        "    def calc_gradient(self, X, y):\n",
        "        \"\"\"\n",
        "        X: np.array of shape (l, d) (l can be equal to 1 if stochastic)\n",
        "        y: np.array of shape (l)\n",
        "        ---\n",
        "        output: np.array of shape (d)\n",
        "        \"\"\"\n",
        "        return 2 * (np.dot(-X.T, (y.values.flatten() - X.dot(self.w))) + self.w.dot(self.reg_coef)) / y.shape[0]\n",
        "\n",
        "    def calc_loss(self, X, y):\n",
        "        \"\"\"\n",
        "        X: np.array of shape (l, d)\n",
        "        y: np.array of shape (l)\n",
        "        ---\n",
        "        output: float\n",
        "        \"\"\"\n",
        "        return np.dot(X.dot(self.w) - y.values.flatten().T, (X.dot(self.w) - y.values)) / y.shape[0]\n",
        "\n",
        "    def _stop_condition(self, current_iter, last_w):\n",
        "        norm = np.linalg.norm(self.w - last_w)\n",
        "        return (current_iter < self.max_iter and norm > self.tolerance) or current_iter == 0\n",
        "\n",
        "    def _gradient_descent(self, X, y, current_iter, last_w):\n",
        "        while self._stop_condition(current_iter, last_w):\n",
        "            current_iter += 1\n",
        "            last_w = self.w.copy()\n",
        "            gradient = self.calc_gradient(X, y)\n",
        "            self.w -= self.eta * gradient\n",
        "            self.loss_history.append(self.calc_loss(X, y))\n",
        "\n",
        "    def _stochastic_descent(self, X, y, current_iter, last_w):\n",
        "        while self._stop_condition(current_iter, last_w):\n",
        "                current_iter += 1\n",
        "                last_w = self.w.copy()\n",
        "                batch = np.random.choice(y.shape[0], int(self.delta * y.shape[0]))\n",
        "                gradient = self.calc_gradient(X.iloc[batch], y.iloc[batch])\n",
        "                self.w -= self.eta * gradient\n",
        "                self.loss_history.append(self.calc_loss(X, y))\n",
        "    \n",
        "    def _momentum(self, X, y, current_iter, last_w):\n",
        "        h = 0 \n",
        "        while self._stop_condition(current_iter, last_w):\n",
        "            current_iter += 1\n",
        "            last_w = self.w.copy()\n",
        "            gradient = self.calc_gradient(X, y)\n",
        "            h = h * self.alpha + self.eta * gradient\n",
        "            self.w -= h\n",
        "            self.loss_history.append(self.calc_loss(X, y))\n",
        "\n",
        "    def _adagrad(self, X, y, current_iter, last_w):\n",
        "        G = 0\n",
        "        while self._stop_condition(current_iter, last_w):\n",
        "            current_iter += 1\n",
        "            last_w = self.w.copy()            \n",
        "            gradient = self.calc_gradient(X, y)\n",
        "            G += gradient**2\n",
        "            self.w -= (gradient / np.sqrt(G + self.epsilon)) * self.eta\n",
        "            self.loss_history.append(self.calc_loss(X, y))\n"
      ]
    },
    {
      "cell_type": "markdown",
      "metadata": {
        "id": "1QQJEjGVy-Qu"
      },
      "source": [
        "#### 8. [1 point] Train and validate \"manual\" models on the same data, compare the quality with models from Sklearn and StatsModels. Investigate the influence of the `max_iter` and `alpha` parameters on the optimization process. Does it meet your expectations?"
      ]
    },
    {
      "cell_type": "code",
      "execution_count": 30,
      "metadata": {
        "id": "rIJNcxt_y-Qu"
      },
      "outputs": [],
      "source": [
        "X_train_scaled = sm.add_constant(pd.DataFrame(data=scaler.fit_transform(X_train), columns=X_train.columns))\n",
        "X_test_scaled = sm.add_constant(pd.DataFrame(data=scaler.fit_transform(X_test), columns=X_test.columns))"
      ]
    },
    {
      "cell_type": "code",
      "execution_count": 31,
      "metadata": {},
      "outputs": [],
      "source": [
        "lr_generator = lambda type: LinReg(gd_type=type, delta=0.5).fit(X_train_scaled, y_train)"
      ]
    },
    {
      "cell_type": "code",
      "execution_count": 32,
      "metadata": {},
      "outputs": [],
      "source": [
        "gradient_descent = lr_generator(LinReg.GRADIENT_DESCENT)\n",
        "gradient_descent_y_pred = gradient_descent.predict(X_test_scaled)"
      ]
    },
    {
      "cell_type": "code",
      "execution_count": 33,
      "metadata": {},
      "outputs": [],
      "source": [
        "stochastic_descent = lr_generator(LinReg.STOCHASTIC_DESCENT)\n",
        "stochastic_descent_y_pred = stochastic_descent.predict(X_test_scaled)"
      ]
    },
    {
      "cell_type": "code",
      "execution_count": 34,
      "metadata": {},
      "outputs": [],
      "source": [
        "momentum = lr_generator(LinReg.MOMENTUM)\n",
        "momentum_y_pred = momentum.predict(X_test_scaled)"
      ]
    },
    {
      "cell_type": "code",
      "execution_count": 35,
      "metadata": {},
      "outputs": [],
      "source": [
        "adagrad = lr_generator(LinReg.ADAGRAD)\n",
        "adagrad_y_pred = adagrad.predict(X_test_scaled)"
      ]
    },
    {
      "cell_type": "code",
      "execution_count": 36,
      "metadata": {},
      "outputs": [],
      "source": [
        "models = (gradient_descent, stochastic_descent, momentum, adagrad)\n",
        "predictions = (gradient_descent_y_pred, stochastic_descent_y_pred, momentum_y_pred, adagrad_y_pred)"
      ]
    },
    {
      "cell_type": "code",
      "execution_count": 37,
      "metadata": {},
      "outputs": [],
      "source": [
        "headers = (\"Type\", \"Number of iterations\", \"MSE\", \"R2\")\n",
        "types = (LinReg.GRADIENT_DESCENT, LinReg.STOCHASTIC_DESCENT, LinReg.MOMENTUM, LinReg.ADAGRAD)\n",
        "numbers_of_iterations = (len(model.loss_history) for model in models)\n",
        "mses = (mean_squared_error(prediction, y_test, squared=False) for prediction in predictions)\n",
        "r2s = (r2_score(y_test, prediction) for prediction in predictions)"
      ]
    },
    {
      "cell_type": "code",
      "execution_count": 38,
      "metadata": {},
      "outputs": [
        {
          "name": "stdout",
          "output_type": "stream",
          "text": [
            "                Type  Number of iterations       MSE         R2\n",
            "0    GradientDescent                   703  0.107060   0.817884\n",
            "1  StochasticDescent                   796  0.107028   0.817993\n",
            "2           Momentum                   867  0.107474   0.816471\n",
            "3            Adagrad                  1000  1.778299 -49.246557\n"
          ]
        }
      ],
      "source": [
        "df = pd.DataFrame(zip(types, numbers_of_iterations, mses, r2s), columns=headers)\n",
        "print(df)"
      ]
    },
    {
      "cell_type": "markdown",
      "metadata": {},
      "source": [
        "Видно, что `MSE` и `R2` похожи на те же метрики из встроенных моделей у первых трех. Адаград очень расстраивает, останавливается по max_iter  выдает плохие метрики"
      ]
    },
    {
      "cell_type": "code",
      "execution_count": 39,
      "metadata": {},
      "outputs": [],
      "source": [
        "lil_gd = LinReg(gd_type=LinReg.GRADIENT_DESCENT, delta=0.5, max_iter=500).fit(X_train_scaled, y_train)\n",
        "lil_gd_y_pred = lil_gd.predict(X_test_scaled)"
      ]
    },
    {
      "cell_type": "code",
      "execution_count": 40,
      "metadata": {},
      "outputs": [],
      "source": [
        "ll_gd = LinReg(gd_type=LinReg.GRADIENT_DESCENT, delta=0.5, max_iter=100).fit(X_train_scaled, y_train)\n",
        "ll_gd_y_pred = ll_gd.predict(X_test_scaled)"
      ]
    },
    {
      "cell_type": "code",
      "execution_count": 41,
      "metadata": {},
      "outputs": [
        {
          "name": "stdout",
          "output_type": "stream",
          "text": [
            "   alpha  max_iter  Number of iterations       MSE        R2\n",
            "0  0.001      1000                   703  0.107060  0.817884\n",
            "1  0.001       500                   500  0.132389  0.721517\n",
            "2  0.001       100                   100  0.662076 -5.964858\n"
          ]
        }
      ],
      "source": [
        "df = pd.DataFrame([(1e-3, 1000, len(gradient_descent.loss_history), mean_squared_error(gradient_descent_y_pred, y_test, squared=False), r2_score(y_test, gradient_descent_y_pred)),\n",
        "                   (1e-3, 500, len(lil_gd.loss_history), mean_squared_error(lil_gd_y_pred, y_test, squared=False), r2_score(y_test, lil_gd_y_pred)),\n",
        "                   (1e-3, 100, len(ll_gd.loss_history), mean_squared_error(ll_gd_y_pred, y_test, squared=False), r2_score(y_test, ll_gd_y_pred))],\n",
        "                     columns=(\"alpha\", \"max_iter\", \"Number of iterations\", \"MSE\", \"R2\"))\n",
        "print(df)"
      ]
    },
    {
      "cell_type": "markdown",
      "metadata": {},
      "source": [
        "Видим, что количество итераций влияет на метрики:\n",
        "+ если \"отобрать\" у модели ~200 итераций, эти изменения не такие уж и значительные\n",
        "+ если же \"отобрать\" ~600 итераций, модель становится заметно хуже"
      ]
    },
    {
      "cell_type": "code",
      "execution_count": 42,
      "metadata": {},
      "outputs": [],
      "source": [
        "lil_mom = LinReg(gd_type=LinReg.MOMENTUM, delta=0.5, alpha=1e-6).fit(X_train_scaled, y_train)\n",
        "lil_mom_y_pred = lil_mom.predict(X_test_scaled)"
      ]
    },
    {
      "cell_type": "code",
      "execution_count": 43,
      "metadata": {},
      "outputs": [],
      "source": [
        "big_mom = LinReg(gd_type=LinReg.MOMENTUM, delta=0.5, alpha=0.1).fit(X_train_scaled, y_train)\n",
        "big_mom_y_pred = big_mom.predict(X_test_scaled)"
      ]
    },
    {
      "cell_type": "code",
      "execution_count": 44,
      "metadata": {},
      "outputs": [],
      "source": [
        "l_mom = LinReg(gd_type=LinReg.MOMENTUM, delta=0.5, alpha=1e-9).fit(X_train_scaled, y_train)\n",
        "l_mom_y_pred = l_mom.predict(X_test_scaled)"
      ]
    },
    {
      "cell_type": "code",
      "execution_count": 45,
      "metadata": {},
      "outputs": [],
      "source": [
        "vl_mom = LinReg(gd_type=LinReg.MOMENTUM, delta=0.5, alpha=1e-12).fit(X_train_scaled, y_train)\n",
        "vl_mom_y_pred = vl_mom.predict(X_test_scaled)"
      ]
    },
    {
      "cell_type": "code",
      "execution_count": 49,
      "metadata": {},
      "outputs": [
        {
          "name": "stdout",
          "output_type": "stream",
          "text": [
            "          alpha  Number of iterations       MSE        R2\n",
            "0  1.000000e-01                   844  0.107465  0.816502\n",
            "1  1.000000e-03                   867  0.107474  0.816471\n",
            "2  1.000000e-06                   725  0.107032  0.817979\n",
            "3  1.000000e-09                   784  0.107154  0.817561\n",
            "4  1.000000e-12                   862  0.107455  0.816536\n"
          ]
        }
      ],
      "source": [
        "df = pd.DataFrame([(1e-1, len(lil_mom.loss_history), mean_squared_error(lil_mom_y_pred, y_test, squared=False), r2_score(y_test, lil_mom_y_pred)),\n",
        "                   (1e-3, len(momentum.loss_history), mean_squared_error(momentum_y_pred, y_test, squared=False), r2_score(y_test, momentum_y_pred)),\n",
        "                   (1e-6, len(big_mom.loss_history), mean_squared_error(big_mom_y_pred, y_test, squared=False), r2_score(y_test, big_mom_y_pred)),\n",
        "                   (1e-9, len(l_mom.loss_history), mean_squared_error(l_mom_y_pred, y_test, squared=False), r2_score(y_test, l_mom_y_pred)),\n",
        "                   (1e-12, len(vl_mom.loss_history), mean_squared_error(vl_mom_y_pred, y_test, squared=False), r2_score(y_test, vl_mom_y_pred))],\n",
        "                     columns=(\"alpha\", \"Number of iterations\", \"MSE\", \"R2\"))\n",
        "print(df)"
      ]
    },
    {
      "cell_type": "markdown",
      "metadata": {},
      "source": [
        "Видно, что $\\alpha$ влияет на метрики, но незначительно"
      ]
    },
    {
      "cell_type": "markdown",
      "metadata": {
        "id": "bqYtVqv-y-Qu"
      },
      "source": [
        "#### 9. [1 point] Plot graphs of the loss function values ​​as a function of the iteration number for all models (full gradient descent, stochastic gc, Momentum, and Adagrad). Draw conclusions about the convergence rate of various modifications of gradient descent.\n",
        "\n",
        "Don't forget about what a *nice* graph should look like!"
      ]
    },
    {
      "cell_type": "code",
      "execution_count": 47,
      "metadata": {
        "id": "Xbwhu8BSy-Qu"
      },
      "outputs": [
        {
          "data": {
            "image/png": "[encoded data removed]",
            "text/plain": [
              "<Figure size 640x480 with 1 Axes>"
            ]
          },
          "metadata": {},
          "output_type": "display_data"
        }
      ],
      "source": [
        "fig = plt.figure()\n",
        "ax = fig.add_subplot(1, 1, 1)\n",
        "ax.plot(range((len(gradient_descent.loss_history))), gradient_descent.loss_history, label=LinReg.GRADIENT_DESCENT)\n",
        "ax.plot(range(len(stochastic_descent.loss_history)), stochastic_descent.loss_history, label=LinReg.STOCHASTIC_DESCENT)\n",
        "ax.plot(range(len(momentum.loss_history)), momentum.loss_history, label=LinReg.MOMENTUM)\n",
        "ax.plot(range(len(adagrad.loss_history)), adagrad.loss_history, label=LinReg.ADAGRAD)\n",
        "\n",
        "plt.xlabel(\"Iterations\")\n",
        "plt.ylabel(\"Loss\")\n",
        "plt.yscale(\"log\")\n",
        "plt.xscale(\"log\")\n",
        "\n",
        "plt.legend()\n",
        "plt.show()"
      ]
    },
    {
      "cell_type": "markdown",
      "metadata": {},
      "source": [
        "Все, кроме `Adagrad` сходятся почти одинаково. `Adagrad` сходится заметно хуже всех остальных, `GradientDescent` как будто совсем чуть-чуть лучше оставшихся двух "
      ]
    }
  ],
  "metadata": {
    "colab": {
      "provenance": []
    },
    "kernelspec": {
      "display_name": "venv",
      "language": "python",
      "name": "python3"
    },
    "language_info": {
      "codemirror_mode": {
        "name": "ipython",
        "version": 3
      },
      "file_extension": ".py",
      "mimetype": "text/x-python",
      "name": "python",
      "nbconvert_exporter": "python",
      "pygments_lexer": "ipython3",
      "version": "3.11.0"
    }
  },
  "nbformat": 4,
  "nbformat_minor": 0
}
